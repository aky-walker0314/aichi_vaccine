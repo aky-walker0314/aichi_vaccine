{
 "cells": [
  {
   "cell_type": "code",
   "execution_count": 29,
   "id": "a75f5ea7",
   "metadata": {},
   "outputs": [],
   "source": [
    "import ujson\n",
    "import pandas as pd\n",
    "import numpy as np\n",
    "import json\n",
    "import datetime\n",
    "import os"
   ]
  },
  {
   "cell_type": "code",
   "execution_count": 30,
   "id": "6f0a0474",
   "metadata": {},
   "outputs": [],
   "source": [
    "folderName=\"20210604\"\n",
    "dir_path = \"./\"+folderName\n",
    "if not os.path.exists(dir_path):\n",
    "    os.makedirs(dir_path)"
   ]
  },
  {
   "cell_type": "code",
   "execution_count": 31,
   "id": "d13dddf1",
   "metadata": {},
   "outputs": [],
   "source": [
    "def aichi_ndjson(file,date):\n",
    "    records = map(ujson.loads,open(file))\n",
    "    df = pd.DataFrame.from_records(records)\n",
    "    df_ai=df[df['prefecture']=='23']\n",
    "    df_ai.to_csv(dir_path+'/aichi_vaccine_'+date+'.csv')"
   ]
  },
  {
   "cell_type": "code",
   "execution_count": 6,
   "id": "e55071fa",
   "metadata": {},
   "outputs": [],
   "source": [
    "aichi_ndjson('prefecture.ndjson','20210603')"
   ]
  },
  {
   "cell_type": "code",
   "execution_count": 22,
   "id": "d9e47aab",
   "metadata": {},
   "outputs": [],
   "source": [
    "aichi_ndjson('../20210601/prefecture.ndjson','20210601')"
   ]
  },
  {
   "cell_type": "code",
   "execution_count": 12,
   "id": "5c13ff33",
   "metadata": {},
   "outputs": [
    {
     "data": {
      "text/html": [
       "<div>\n",
       "<style scoped>\n",
       "    .dataframe tbody tr th:only-of-type {\n",
       "        vertical-align: middle;\n",
       "    }\n",
       "\n",
       "    .dataframe tbody tr th {\n",
       "        vertical-align: top;\n",
       "    }\n",
       "\n",
       "    .dataframe thead th {\n",
       "        text-align: right;\n",
       "    }\n",
       "</style>\n",
       "<table border=\"1\" class=\"dataframe\">\n",
       "  <thead>\n",
       "    <tr style=\"text-align: right;\">\n",
       "      <th></th>\n",
       "      <th>Unnamed: 0</th>\n",
       "      <th>date</th>\n",
       "      <th>prefecture</th>\n",
       "      <th>gender</th>\n",
       "      <th>age</th>\n",
       "      <th>medical_worker</th>\n",
       "      <th>status</th>\n",
       "      <th>count</th>\n",
       "    </tr>\n",
       "  </thead>\n",
       "  <tbody>\n",
       "    <tr>\n",
       "      <th>0</th>\n",
       "      <td>49</td>\n",
       "      <td>2021-04-12</td>\n",
       "      <td>23</td>\n",
       "      <td>U</td>\n",
       "      <td>UNK</td>\n",
       "      <td>False</td>\n",
       "      <td>1</td>\n",
       "      <td>1</td>\n",
       "    </tr>\n",
       "    <tr>\n",
       "      <th>1</th>\n",
       "      <td>179</td>\n",
       "      <td>2021-04-13</td>\n",
       "      <td>23</td>\n",
       "      <td>F</td>\n",
       "      <td>-64</td>\n",
       "      <td>False</td>\n",
       "      <td>1</td>\n",
       "      <td>1</td>\n",
       "    </tr>\n",
       "    <tr>\n",
       "      <th>2</th>\n",
       "      <td>303</td>\n",
       "      <td>2021-04-14</td>\n",
       "      <td>23</td>\n",
       "      <td>F</td>\n",
       "      <td>-64</td>\n",
       "      <td>False</td>\n",
       "      <td>1</td>\n",
       "      <td>2</td>\n",
       "    </tr>\n",
       "    <tr>\n",
       "      <th>3</th>\n",
       "      <td>304</td>\n",
       "      <td>2021-04-14</td>\n",
       "      <td>23</td>\n",
       "      <td>F</td>\n",
       "      <td>65-</td>\n",
       "      <td>False</td>\n",
       "      <td>1</td>\n",
       "      <td>102</td>\n",
       "    </tr>\n",
       "    <tr>\n",
       "      <th>4</th>\n",
       "      <td>305</td>\n",
       "      <td>2021-04-14</td>\n",
       "      <td>23</td>\n",
       "      <td>M</td>\n",
       "      <td>65-</td>\n",
       "      <td>False</td>\n",
       "      <td>1</td>\n",
       "      <td>94</td>\n",
       "    </tr>\n",
       "  </tbody>\n",
       "</table>\n",
       "</div>"
      ],
      "text/plain": [
       "   Unnamed: 0        date  prefecture gender  age  medical_worker  status  \\\n",
       "0          49  2021-04-12          23      U  UNK           False       1   \n",
       "1         179  2021-04-13          23      F  -64           False       1   \n",
       "2         303  2021-04-14          23      F  -64           False       1   \n",
       "3         304  2021-04-14          23      F  65-           False       1   \n",
       "4         305  2021-04-14          23      M  65-           False       1   \n",
       "\n",
       "   count  \n",
       "0      1  \n",
       "1      1  \n",
       "2      2  \n",
       "3    102  \n",
       "4     94  "
      ]
     },
     "execution_count": 12,
     "metadata": {},
     "output_type": "execute_result"
    }
   ],
   "source": [
    "df = pd.read_csv('aichi_vaccine_20210603.csv')\n",
    "df.head()"
   ]
  },
  {
   "cell_type": "code",
   "execution_count": 13,
   "id": "bdd4a647",
   "metadata": {},
   "outputs": [
    {
     "data": {
      "text/plain": [
       "478164"
      ]
     },
     "execution_count": 13,
     "metadata": {},
     "output_type": "execute_result"
    }
   ],
   "source": [
    "df['count'].sum()"
   ]
  },
  {
   "cell_type": "code",
   "execution_count": 28,
   "id": "0ef9f46b",
   "metadata": {},
   "outputs": [
    {
     "name": "stdout",
     "output_type": "stream",
     "text": [
      "     Unnamed: 0        date  prefecture gender  age  medical_worker  status  \\\n",
      "322       14876  2021-06-01          23      F  -64           False       1   \n",
      "323       14877  2021-06-01          23      F  -64           False       2   \n",
      "324       14878  2021-06-01          23      F  65-           False       1   \n",
      "325       14879  2021-06-01          23      F  65-           False       2   \n",
      "326       14880  2021-06-01          23      M  -64           False       1   \n",
      "327       14881  2021-06-01          23      M  -64           False       2   \n",
      "328       14882  2021-06-01          23      M  65-           False       1   \n",
      "329       14883  2021-06-01          23      M  65-           False       2   \n",
      "330       14884  2021-06-01          23      U  UNK           False       1   \n",
      "331       14885  2021-06-01          23      U  UNK           False       2   \n",
      "\n",
      "     count  \n",
      "322    280  \n",
      "323     17  \n",
      "324  17968  \n",
      "325   1229  \n",
      "326    274  \n",
      "327     21  \n",
      "328  13643  \n",
      "329    862  \n",
      "330     54  \n",
      "331      5  \n",
      "------------------------------------------\n",
      "34353\n"
     ]
    }
   ],
   "source": [
    "print(df[df['date']=='2021-06-01'])\n",
    "print('------------------------------------------')\n",
    "print(df[df['date']=='2021-06-01']['count'].sum())"
   ]
  },
  {
   "cell_type": "code",
   "execution_count": 18,
   "id": "dbe114b1",
   "metadata": {},
   "outputs": [
    {
     "name": "stdout",
     "output_type": "stream",
     "text": [
      "     Unnamed: 0        date  prefecture gender  age  medical_worker  status  \\\n",
      "342       15794  2021-06-03          23      F  -64           False       1   \n",
      "343       15795  2021-06-03          23      F  -64           False       2   \n",
      "344       15796  2021-06-03          23      F  65-           False       1   \n",
      "345       15797  2021-06-03          23      F  65-           False       2   \n",
      "346       15798  2021-06-03          23      M  -64           False       1   \n",
      "347       15799  2021-06-03          23      M  -64           False       2   \n",
      "348       15800  2021-06-03          23      M  65-           False       1   \n",
      "349       15801  2021-06-03          23      M  65-           False       2   \n",
      "350       15802  2021-06-03          23      U  UNK           False       1   \n",
      "351       15803  2021-06-03          23      U  UNK           False       2   \n",
      "\n",
      "     count  \n",
      "342    320  \n",
      "343     28  \n",
      "344  17646  \n",
      "345   1990  \n",
      "346    301  \n",
      "347     22  \n",
      "348  13313  \n",
      "349   1369  \n",
      "350     68  \n",
      "351      1  \n",
      "------------------------------------------\n",
      "35058\n"
     ]
    }
   ],
   "source": [
    "print(df[df['date']=='2021-06-03'])\n",
    "print('------------------------------------------')\n",
    "print(df[df['date']=='2021-06-03']['count'].sum())"
   ]
  },
  {
   "cell_type": "code",
   "execution_count": 27,
   "id": "567b44f0",
   "metadata": {},
   "outputs": [
    {
     "data": {
      "text/plain": [
       "447777"
      ]
     },
     "execution_count": 27,
     "metadata": {},
     "output_type": "execute_result"
    }
   ],
   "source": [
    "df[df['status']==1]['count'].sum()"
   ]
  },
  {
   "cell_type": "code",
   "execution_count": null,
   "id": "22023a09",
   "metadata": {},
   "outputs": [],
   "source": []
  }
 ],
 "metadata": {
  "kernelspec": {
   "display_name": "Python 3",
   "language": "python",
   "name": "python3"
  },
  "language_info": {
   "codemirror_mode": {
    "name": "ipython",
    "version": 3
   },
   "file_extension": ".py",
   "mimetype": "text/x-python",
   "name": "python",
   "nbconvert_exporter": "python",
   "pygments_lexer": "ipython3",
   "version": "3.9.1"
  }
 },
 "nbformat": 4,
 "nbformat_minor": 5
}
